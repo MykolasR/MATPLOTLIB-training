{
 "cells": [
  {
   "cell_type": "code",
   "execution_count": null,
   "id": "014fa5b7-8067-4913-87d0-a2ebaa02734f",
   "metadata": {},
   "outputs": [],
   "source": [
    "import random\n",
    "from itertools import count\n",
    "import pandas as pd\n",
    "import matplotlib.pyplot as plt\n",
    "from matplotlib.animation import FuncAnimation \n",
    "\n",
    "plt.style.use(\"fivethirtyeight\")\n"
   ]
  },
  {
   "cell_type": "code",
   "execution_count": null,
   "id": "a832a52e-5b8e-4f31-8850-d45ec7c189a5",
   "metadata": {},
   "outputs": [],
   "source": [
    "# x_vals = [0, 1, 2, 3, 4, 5]\n",
    "\n",
    "# y_vals = [0, 1, 3, 2, 4, 5]"
   ]
  },
  {
   "cell_type": "code",
   "execution_count": null,
   "id": "a372e269-0e51-4354-a336-ccf15a279edb",
   "metadata": {},
   "outputs": [],
   "source": [
    "# plt.plot(x_vals, y_vals)"
   ]
  },
  {
   "cell_type": "code",
   "execution_count": null,
   "id": "3f8d2fc4-9f2c-45df-a75b-30bfa8be5128",
   "metadata": {},
   "outputs": [],
   "source": [
    "\n",
    "\n",
    "x_vals = []\n",
    "\n",
    "y_vals = []\n",
    "\n",
    "index = count()\n",
    "\n",
    "def animate(i):\n",
    "    x_vals.append(next(index))\n",
    "    y_vals.append(random.randint(0,5))\n",
    "    #kad nekeistu paveiksliukai spalvu iterpiame cla funkcija\n",
    "    plt.cla()\n",
    "    \n",
    "    plt.plot(x_vals, y_vals)\n",
    "    \n",
    "# ani = FuncAnimation(plt.gcf(), animate, interval = 1000)    \n",
    "# # gcf get current figure, intervalas 1000 lygus 1 sekunde    \n",
    "\n",
    "\n",
    "\n",
    "plt.tight_layout()\n",
    "plt.show()\n"
   ]
  },
  {
   "cell_type": "code",
   "execution_count": null,
   "id": "cdc111eb-cf31-4f52-a234-701cca69f5c9",
   "metadata": {},
   "outputs": [],
   "source": []
  },
  {
   "cell_type": "code",
   "execution_count": null,
   "id": "1564b328-547e-41a8-ab83-fcbba39d494b",
   "metadata": {},
   "outputs": [],
   "source": [
    "import random\n",
    "from itertools import count\n",
    "import pandas as pd\n",
    "import matplotlib.pyplot as plt\n",
    "from matplotlib.animation import FuncAnimation \n",
    "\n",
    "plt.style.use(\"fivethirtyeight\")\n",
    "x_vals = []\n",
    "\n",
    "y_vals = []\n",
    "\n",
    "index = count()\n",
    "\n",
    "def animate(i):\n",
    "    data = pd.read_csv(\"C:/Users/Vartotojas/Desktop/kursai online/data6.csv\")\n",
    "    x= data[\"x_value\"]\n",
    "    y1=data[\"total_1\"]\n",
    "    y2=data[\"total_2\"]\n",
    "  \n",
    "    plt.cla()\n",
    "    \n",
    "    plt.plot(x, y1, label = \"Chanel1\")\n",
    "    plt.plot(x, y2, label = \"Chanel2\")\n",
    "    plt.legend(loc = \"upper left\")\n",
    "    \n",
    "ani = FuncAnimation(plt.gcf(), animate, interval = 1000)    \n",
    "# gcf get current figure, intervalas 1000 lygus 1 sekunde    \n",
    "\n",
    "\n",
    "plt.tight_layout()\n",
    "plt.show()\n"
   ]
  },
  {
   "cell_type": "code",
   "execution_count": null,
   "id": "0cb02d05-c800-4118-a170-055b80b07f2a",
   "metadata": {},
   "outputs": [],
   "source": []
  },
  {
   "cell_type": "code",
   "execution_count": null,
   "id": "d617997a-4c9e-4540-8072-ba12cf545862",
   "metadata": {},
   "outputs": [],
   "source": []
  }
 ],
 "metadata": {
  "kernelspec": {
   "display_name": "Python 3 (ipykernel)",
   "language": "python",
   "name": "python3"
  },
  "language_info": {
   "codemirror_mode": {
    "name": "ipython",
    "version": 3
   },
   "file_extension": ".py",
   "mimetype": "text/x-python",
   "name": "python",
   "nbconvert_exporter": "python",
   "pygments_lexer": "ipython3",
   "version": "3.9.12"
  }
 },
 "nbformat": 4,
 "nbformat_minor": 5
}
